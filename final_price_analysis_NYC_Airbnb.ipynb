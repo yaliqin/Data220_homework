{
 "cells": [
  {
   "cell_type": "markdown",
   "metadata": {},
   "source": [
    "# New York Airbnb data analysis"
   ]
  },
  {
   "cell_type": "markdown",
   "metadata": {},
   "source": [
    "## Import plot and data analysis lib"
   ]
  },
  {
   "cell_type": "code",
   "execution_count": 50,
   "metadata": {},
   "outputs": [],
   "source": [
    "import pandas as pd\n",
    "import matplotlib.pyplot as plt\n",
    "import seaborn as sns\n",
    "import math\n",
    "import numpy as np\n",
    "import statistics as stat"
   ]
  },
  {
   "cell_type": "markdown",
   "metadata": {},
   "source": [
    "## Read csv file"
   ]
  },
  {
   "cell_type": "code",
   "execution_count": 51,
   "metadata": {},
   "outputs": [],
   "source": [
    "airbnb_data = pd.read_csv('AB_NYC_2019.csv', encoding='unicode_escape')"
   ]
  },
  {
   "cell_type": "markdown",
   "metadata": {},
   "source": [
    "## Format for floating-point values"
   ]
  },
  {
   "cell_type": "code",
   "execution_count": 52,
   "metadata": {},
   "outputs": [],
   "source": [
    "pd.set_option('precision',2) "
   ]
  },
  {
   "cell_type": "markdown",
   "metadata": {},
   "source": [
    "## Get data column metrics"
   ]
  },
  {
   "cell_type": "code",
   "execution_count": 53,
   "metadata": {},
   "outputs": [
    {
     "data": {
      "text/plain": [
       "Index(['id', 'name', 'host_id', 'host_name', 'neighbourhood_group',\n",
       "       'neighbourhood', 'latitude', 'longitude', 'room_type', 'price',\n",
       "       'minimum_nights', 'number_of_reviews', 'last_review',\n",
       "       'reviews_per_month', 'calculated_host_listings_count',\n",
       "       'availability_365'],\n",
       "      dtype='object')"
      ]
     },
     "execution_count": 53,
     "metadata": {},
     "output_type": "execute_result"
    }
   ],
   "source": [
    "airbnb_data.columns"
   ]
  },
  {
   "cell_type": "markdown",
   "metadata": {},
   "source": [
    "## Rename some long column names"
   ]
  },
  {
   "cell_type": "code",
   "execution_count": 54,
   "metadata": {},
   "outputs": [],
   "source": [
    "airbnb_data.rename(columns={'host_id':'hostId',\n",
    "                            'host_name':'hostName',\n",
    "                            'neighbourhood_group':'neighbourhoodGroup',\n",
    "                            'number_of_reviews':'reviews',\n",
    "                            'last_review':'lastReview',\n",
    "                            'calculated_host_listings_count':'listingsCount'},\n",
    "                   inplace=True)"
   ]
  },
  {
   "cell_type": "markdown",
   "metadata": {},
   "source": [
    "## Get sample datas, first 5 and last 5 rows"
   ]
  },
  {
   "cell_type": "code",
   "execution_count": 55,
   "metadata": {},
   "outputs": [
    {
     "data": {
      "text/html": [
       "<div>\n",
       "<style scoped>\n",
       "    .dataframe tbody tr th:only-of-type {\n",
       "        vertical-align: middle;\n",
       "    }\n",
       "\n",
       "    .dataframe tbody tr th {\n",
       "        vertical-align: top;\n",
       "    }\n",
       "\n",
       "    .dataframe thead th {\n",
       "        text-align: right;\n",
       "    }\n",
       "</style>\n",
       "<table border=\"1\" class=\"dataframe\">\n",
       "  <thead>\n",
       "    <tr style=\"text-align: right;\">\n",
       "      <th></th>\n",
       "      <th>id</th>\n",
       "      <th>name</th>\n",
       "      <th>hostId</th>\n",
       "      <th>hostName</th>\n",
       "      <th>neighbourhoodGroup</th>\n",
       "      <th>neighbourhood</th>\n",
       "      <th>latitude</th>\n",
       "      <th>longitude</th>\n",
       "      <th>room_type</th>\n",
       "      <th>price</th>\n",
       "      <th>minimum_nights</th>\n",
       "      <th>reviews</th>\n",
       "      <th>lastReview</th>\n",
       "      <th>reviews_per_month</th>\n",
       "      <th>listingsCount</th>\n",
       "      <th>availability_365</th>\n",
       "    </tr>\n",
       "  </thead>\n",
       "  <tbody>\n",
       "    <tr>\n",
       "      <th>0</th>\n",
       "      <td>2539</td>\n",
       "      <td>Clean &amp; quiet apt home by the park</td>\n",
       "      <td>2787</td>\n",
       "      <td>John</td>\n",
       "      <td>Brooklyn</td>\n",
       "      <td>Kensington</td>\n",
       "      <td>40.65</td>\n",
       "      <td>-73.97</td>\n",
       "      <td>Private room</td>\n",
       "      <td>149</td>\n",
       "      <td>1</td>\n",
       "      <td>9</td>\n",
       "      <td>2018-10-19</td>\n",
       "      <td>0.21</td>\n",
       "      <td>6</td>\n",
       "      <td>365</td>\n",
       "    </tr>\n",
       "    <tr>\n",
       "      <th>1</th>\n",
       "      <td>2595</td>\n",
       "      <td>Skylit Midtown Castle</td>\n",
       "      <td>2845</td>\n",
       "      <td>Jennifer</td>\n",
       "      <td>Manhattan</td>\n",
       "      <td>Midtown</td>\n",
       "      <td>40.75</td>\n",
       "      <td>-73.98</td>\n",
       "      <td>Entire home/apt</td>\n",
       "      <td>225</td>\n",
       "      <td>1</td>\n",
       "      <td>45</td>\n",
       "      <td>2019-05-21</td>\n",
       "      <td>0.38</td>\n",
       "      <td>2</td>\n",
       "      <td>355</td>\n",
       "    </tr>\n",
       "    <tr>\n",
       "      <th>2</th>\n",
       "      <td>3647</td>\n",
       "      <td>THE VILLAGE OF HARLEM....NEW YORK !</td>\n",
       "      <td>4632</td>\n",
       "      <td>Elisabeth</td>\n",
       "      <td>Manhattan</td>\n",
       "      <td>Harlem</td>\n",
       "      <td>40.81</td>\n",
       "      <td>-73.94</td>\n",
       "      <td>Private room</td>\n",
       "      <td>150</td>\n",
       "      <td>3</td>\n",
       "      <td>0</td>\n",
       "      <td>NaN</td>\n",
       "      <td>NaN</td>\n",
       "      <td>1</td>\n",
       "      <td>365</td>\n",
       "    </tr>\n",
       "    <tr>\n",
       "      <th>3</th>\n",
       "      <td>3831</td>\n",
       "      <td>Cozy Entire Floor of Brownstone</td>\n",
       "      <td>4869</td>\n",
       "      <td>LisaRoxanne</td>\n",
       "      <td>Brooklyn</td>\n",
       "      <td>Clinton Hill</td>\n",
       "      <td>40.69</td>\n",
       "      <td>-73.96</td>\n",
       "      <td>Entire home/apt</td>\n",
       "      <td>89</td>\n",
       "      <td>1</td>\n",
       "      <td>270</td>\n",
       "      <td>2019-07-05</td>\n",
       "      <td>4.64</td>\n",
       "      <td>1</td>\n",
       "      <td>194</td>\n",
       "    </tr>\n",
       "    <tr>\n",
       "      <th>4</th>\n",
       "      <td>5022</td>\n",
       "      <td>Entire Apt: Spacious Studio/Loft by central park</td>\n",
       "      <td>7192</td>\n",
       "      <td>Laura</td>\n",
       "      <td>Manhattan</td>\n",
       "      <td>East Harlem</td>\n",
       "      <td>40.80</td>\n",
       "      <td>-73.94</td>\n",
       "      <td>Entire home/apt</td>\n",
       "      <td>80</td>\n",
       "      <td>10</td>\n",
       "      <td>9</td>\n",
       "      <td>2018-11-19</td>\n",
       "      <td>0.10</td>\n",
       "      <td>1</td>\n",
       "      <td>0</td>\n",
       "    </tr>\n",
       "  </tbody>\n",
       "</table>\n",
       "</div>"
      ],
      "text/plain": [
       "     id                                              name  hostId  \\\n",
       "0  2539                Clean & quiet apt home by the park    2787   \n",
       "1  2595                             Skylit Midtown Castle    2845   \n",
       "2  3647               THE VILLAGE OF HARLEM....NEW YORK !    4632   \n",
       "3  3831                   Cozy Entire Floor of Brownstone    4869   \n",
       "4  5022  Entire Apt: Spacious Studio/Loft by central park    7192   \n",
       "\n",
       "      hostName neighbourhoodGroup neighbourhood  latitude  longitude  \\\n",
       "0         John           Brooklyn    Kensington     40.65     -73.97   \n",
       "1     Jennifer          Manhattan       Midtown     40.75     -73.98   \n",
       "2    Elisabeth          Manhattan        Harlem     40.81     -73.94   \n",
       "3  LisaRoxanne           Brooklyn  Clinton Hill     40.69     -73.96   \n",
       "4        Laura          Manhattan   East Harlem     40.80     -73.94   \n",
       "\n",
       "         room_type  price  minimum_nights  reviews  lastReview  \\\n",
       "0     Private room    149               1        9  2018-10-19   \n",
       "1  Entire home/apt    225               1       45  2019-05-21   \n",
       "2     Private room    150               3        0         NaN   \n",
       "3  Entire home/apt     89               1      270  2019-07-05   \n",
       "4  Entire home/apt     80              10        9  2018-11-19   \n",
       "\n",
       "   reviews_per_month  listingsCount  availability_365  \n",
       "0               0.21              6               365  \n",
       "1               0.38              2               355  \n",
       "2                NaN              1               365  \n",
       "3               4.64              1               194  \n",
       "4               0.10              1                 0  "
      ]
     },
     "execution_count": 55,
     "metadata": {},
     "output_type": "execute_result"
    }
   ],
   "source": [
    "airbnb_data.head()"
   ]
  },
  {
   "cell_type": "code",
   "execution_count": 56,
   "metadata": {},
   "outputs": [
    {
     "data": {
      "text/html": [
       "<div>\n",
       "<style scoped>\n",
       "    .dataframe tbody tr th:only-of-type {\n",
       "        vertical-align: middle;\n",
       "    }\n",
       "\n",
       "    .dataframe tbody tr th {\n",
       "        vertical-align: top;\n",
       "    }\n",
       "\n",
       "    .dataframe thead th {\n",
       "        text-align: right;\n",
       "    }\n",
       "</style>\n",
       "<table border=\"1\" class=\"dataframe\">\n",
       "  <thead>\n",
       "    <tr style=\"text-align: right;\">\n",
       "      <th></th>\n",
       "      <th>id</th>\n",
       "      <th>name</th>\n",
       "      <th>hostId</th>\n",
       "      <th>hostName</th>\n",
       "      <th>neighbourhoodGroup</th>\n",
       "      <th>neighbourhood</th>\n",
       "      <th>latitude</th>\n",
       "      <th>longitude</th>\n",
       "      <th>room_type</th>\n",
       "      <th>price</th>\n",
       "      <th>minimum_nights</th>\n",
       "      <th>reviews</th>\n",
       "      <th>lastReview</th>\n",
       "      <th>reviews_per_month</th>\n",
       "      <th>listingsCount</th>\n",
       "      <th>availability_365</th>\n",
       "    </tr>\n",
       "  </thead>\n",
       "  <tbody>\n",
       "    <tr>\n",
       "      <th>48890</th>\n",
       "      <td>36484665</td>\n",
       "      <td>Charming one bedroom - newly renovated rowhouse</td>\n",
       "      <td>8232441</td>\n",
       "      <td>Sabrina</td>\n",
       "      <td>Brooklyn</td>\n",
       "      <td>Bedford-Stuyvesant</td>\n",
       "      <td>40.68</td>\n",
       "      <td>-73.95</td>\n",
       "      <td>Private room</td>\n",
       "      <td>70</td>\n",
       "      <td>2</td>\n",
       "      <td>0</td>\n",
       "      <td>NaN</td>\n",
       "      <td>NaN</td>\n",
       "      <td>2</td>\n",
       "      <td>9</td>\n",
       "    </tr>\n",
       "    <tr>\n",
       "      <th>48891</th>\n",
       "      <td>36485057</td>\n",
       "      <td>Affordable room in Bushwick/East Williamsburg</td>\n",
       "      <td>6570630</td>\n",
       "      <td>Marisol</td>\n",
       "      <td>Brooklyn</td>\n",
       "      <td>Bushwick</td>\n",
       "      <td>40.70</td>\n",
       "      <td>-73.93</td>\n",
       "      <td>Private room</td>\n",
       "      <td>40</td>\n",
       "      <td>4</td>\n",
       "      <td>0</td>\n",
       "      <td>NaN</td>\n",
       "      <td>NaN</td>\n",
       "      <td>2</td>\n",
       "      <td>36</td>\n",
       "    </tr>\n",
       "    <tr>\n",
       "      <th>48892</th>\n",
       "      <td>36485431</td>\n",
       "      <td>Sunny Studio at Historical Neighborhood</td>\n",
       "      <td>23492952</td>\n",
       "      <td>Ilgar &amp; Aysel</td>\n",
       "      <td>Manhattan</td>\n",
       "      <td>Harlem</td>\n",
       "      <td>40.81</td>\n",
       "      <td>-73.95</td>\n",
       "      <td>Entire home/apt</td>\n",
       "      <td>115</td>\n",
       "      <td>10</td>\n",
       "      <td>0</td>\n",
       "      <td>NaN</td>\n",
       "      <td>NaN</td>\n",
       "      <td>1</td>\n",
       "      <td>27</td>\n",
       "    </tr>\n",
       "    <tr>\n",
       "      <th>48893</th>\n",
       "      <td>36485609</td>\n",
       "      <td>43rd St. Time Square-cozy single bed</td>\n",
       "      <td>30985759</td>\n",
       "      <td>Taz</td>\n",
       "      <td>Manhattan</td>\n",
       "      <td>Hell's Kitchen</td>\n",
       "      <td>40.76</td>\n",
       "      <td>-73.99</td>\n",
       "      <td>Shared room</td>\n",
       "      <td>55</td>\n",
       "      <td>1</td>\n",
       "      <td>0</td>\n",
       "      <td>NaN</td>\n",
       "      <td>NaN</td>\n",
       "      <td>6</td>\n",
       "      <td>2</td>\n",
       "    </tr>\n",
       "    <tr>\n",
       "      <th>48894</th>\n",
       "      <td>36487245</td>\n",
       "      <td>Trendy duplex in the very heart of Hell's Kitchen</td>\n",
       "      <td>68119814</td>\n",
       "      <td>Christophe</td>\n",
       "      <td>Manhattan</td>\n",
       "      <td>Hell's Kitchen</td>\n",
       "      <td>40.76</td>\n",
       "      <td>-73.99</td>\n",
       "      <td>Private room</td>\n",
       "      <td>90</td>\n",
       "      <td>7</td>\n",
       "      <td>0</td>\n",
       "      <td>NaN</td>\n",
       "      <td>NaN</td>\n",
       "      <td>1</td>\n",
       "      <td>23</td>\n",
       "    </tr>\n",
       "  </tbody>\n",
       "</table>\n",
       "</div>"
      ],
      "text/plain": [
       "             id                                               name    hostId  \\\n",
       "48890  36484665    Charming one bedroom - newly renovated rowhouse   8232441   \n",
       "48891  36485057      Affordable room in Bushwick/East Williamsburg   6570630   \n",
       "48892  36485431            Sunny Studio at Historical Neighborhood  23492952   \n",
       "48893  36485609               43rd St. Time Square-cozy single bed  30985759   \n",
       "48894  36487245  Trendy duplex in the very heart of Hell's Kitchen  68119814   \n",
       "\n",
       "            hostName neighbourhoodGroup       neighbourhood  latitude  \\\n",
       "48890        Sabrina           Brooklyn  Bedford-Stuyvesant     40.68   \n",
       "48891        Marisol           Brooklyn            Bushwick     40.70   \n",
       "48892  Ilgar & Aysel          Manhattan              Harlem     40.81   \n",
       "48893            Taz          Manhattan      Hell's Kitchen     40.76   \n",
       "48894     Christophe          Manhattan      Hell's Kitchen     40.76   \n",
       "\n",
       "       longitude        room_type  price  minimum_nights  reviews lastReview  \\\n",
       "48890     -73.95     Private room     70               2        0        NaN   \n",
       "48891     -73.93     Private room     40               4        0        NaN   \n",
       "48892     -73.95  Entire home/apt    115              10        0        NaN   \n",
       "48893     -73.99      Shared room     55               1        0        NaN   \n",
       "48894     -73.99     Private room     90               7        0        NaN   \n",
       "\n",
       "       reviews_per_month  listingsCount  availability_365  \n",
       "48890                NaN              2                 9  \n",
       "48891                NaN              2                36  \n",
       "48892                NaN              1                27  \n",
       "48893                NaN              6                 2  \n",
       "48894                NaN              1                23  "
      ]
     },
     "execution_count": 56,
     "metadata": {},
     "output_type": "execute_result"
    }
   ],
   "source": [
    "airbnb_data.tail()"
   ]
  },
  {
   "cell_type": "markdown",
   "metadata": {},
   "source": [
    "## Simple analysis"
   ]
  },
  {
   "cell_type": "code",
   "execution_count": 57,
   "metadata": {},
   "outputs": [
    {
     "data": {
      "text/html": [
       "<div>\n",
       "<style scoped>\n",
       "    .dataframe tbody tr th:only-of-type {\n",
       "        vertical-align: middle;\n",
       "    }\n",
       "\n",
       "    .dataframe tbody tr th {\n",
       "        vertical-align: top;\n",
       "    }\n",
       "\n",
       "    .dataframe thead th {\n",
       "        text-align: right;\n",
       "    }\n",
       "</style>\n",
       "<table border=\"1\" class=\"dataframe\">\n",
       "  <thead>\n",
       "    <tr style=\"text-align: right;\">\n",
       "      <th></th>\n",
       "      <th>id</th>\n",
       "      <th>hostId</th>\n",
       "      <th>latitude</th>\n",
       "      <th>longitude</th>\n",
       "      <th>price</th>\n",
       "      <th>minimum_nights</th>\n",
       "      <th>reviews</th>\n",
       "      <th>reviews_per_month</th>\n",
       "      <th>listingsCount</th>\n",
       "      <th>availability_365</th>\n",
       "    </tr>\n",
       "  </thead>\n",
       "  <tbody>\n",
       "    <tr>\n",
       "      <th>count</th>\n",
       "      <td>4.89e+04</td>\n",
       "      <td>4.89e+04</td>\n",
       "      <td>48895.00</td>\n",
       "      <td>48895.00</td>\n",
       "      <td>48895.00</td>\n",
       "      <td>48895.00</td>\n",
       "      <td>48895.00</td>\n",
       "      <td>38843.00</td>\n",
       "      <td>48895.00</td>\n",
       "      <td>48895.00</td>\n",
       "    </tr>\n",
       "    <tr>\n",
       "      <th>mean</th>\n",
       "      <td>1.90e+07</td>\n",
       "      <td>6.76e+07</td>\n",
       "      <td>40.73</td>\n",
       "      <td>-73.95</td>\n",
       "      <td>152.72</td>\n",
       "      <td>7.03</td>\n",
       "      <td>23.27</td>\n",
       "      <td>1.37</td>\n",
       "      <td>7.14</td>\n",
       "      <td>112.78</td>\n",
       "    </tr>\n",
       "    <tr>\n",
       "      <th>std</th>\n",
       "      <td>1.10e+07</td>\n",
       "      <td>7.86e+07</td>\n",
       "      <td>0.05</td>\n",
       "      <td>0.05</td>\n",
       "      <td>240.15</td>\n",
       "      <td>20.51</td>\n",
       "      <td>44.55</td>\n",
       "      <td>1.68</td>\n",
       "      <td>32.95</td>\n",
       "      <td>131.62</td>\n",
       "    </tr>\n",
       "    <tr>\n",
       "      <th>min</th>\n",
       "      <td>2.54e+03</td>\n",
       "      <td>2.44e+03</td>\n",
       "      <td>40.50</td>\n",
       "      <td>-74.24</td>\n",
       "      <td>0.00</td>\n",
       "      <td>1.00</td>\n",
       "      <td>0.00</td>\n",
       "      <td>0.01</td>\n",
       "      <td>1.00</td>\n",
       "      <td>0.00</td>\n",
       "    </tr>\n",
       "    <tr>\n",
       "      <th>25%</th>\n",
       "      <td>9.47e+06</td>\n",
       "      <td>7.82e+06</td>\n",
       "      <td>40.69</td>\n",
       "      <td>-73.98</td>\n",
       "      <td>69.00</td>\n",
       "      <td>1.00</td>\n",
       "      <td>1.00</td>\n",
       "      <td>0.19</td>\n",
       "      <td>1.00</td>\n",
       "      <td>0.00</td>\n",
       "    </tr>\n",
       "    <tr>\n",
       "      <th>50%</th>\n",
       "      <td>1.97e+07</td>\n",
       "      <td>3.08e+07</td>\n",
       "      <td>40.72</td>\n",
       "      <td>-73.96</td>\n",
       "      <td>106.00</td>\n",
       "      <td>3.00</td>\n",
       "      <td>5.00</td>\n",
       "      <td>0.72</td>\n",
       "      <td>1.00</td>\n",
       "      <td>45.00</td>\n",
       "    </tr>\n",
       "    <tr>\n",
       "      <th>75%</th>\n",
       "      <td>2.92e+07</td>\n",
       "      <td>1.07e+08</td>\n",
       "      <td>40.76</td>\n",
       "      <td>-73.94</td>\n",
       "      <td>175.00</td>\n",
       "      <td>5.00</td>\n",
       "      <td>24.00</td>\n",
       "      <td>2.02</td>\n",
       "      <td>2.00</td>\n",
       "      <td>227.00</td>\n",
       "    </tr>\n",
       "    <tr>\n",
       "      <th>max</th>\n",
       "      <td>3.65e+07</td>\n",
       "      <td>2.74e+08</td>\n",
       "      <td>40.91</td>\n",
       "      <td>-73.71</td>\n",
       "      <td>10000.00</td>\n",
       "      <td>1250.00</td>\n",
       "      <td>629.00</td>\n",
       "      <td>58.50</td>\n",
       "      <td>327.00</td>\n",
       "      <td>365.00</td>\n",
       "    </tr>\n",
       "  </tbody>\n",
       "</table>\n",
       "</div>"
      ],
      "text/plain": [
       "             id    hostId  latitude  longitude     price  minimum_nights  \\\n",
       "count  4.89e+04  4.89e+04  48895.00   48895.00  48895.00        48895.00   \n",
       "mean   1.90e+07  6.76e+07     40.73     -73.95    152.72            7.03   \n",
       "std    1.10e+07  7.86e+07      0.05       0.05    240.15           20.51   \n",
       "min    2.54e+03  2.44e+03     40.50     -74.24      0.00            1.00   \n",
       "25%    9.47e+06  7.82e+06     40.69     -73.98     69.00            1.00   \n",
       "50%    1.97e+07  3.08e+07     40.72     -73.96    106.00            3.00   \n",
       "75%    2.92e+07  1.07e+08     40.76     -73.94    175.00            5.00   \n",
       "max    3.65e+07  2.74e+08     40.91     -73.71  10000.00         1250.00   \n",
       "\n",
       "        reviews  reviews_per_month  listingsCount  availability_365  \n",
       "count  48895.00           38843.00       48895.00          48895.00  \n",
       "mean      23.27               1.37           7.14            112.78  \n",
       "std       44.55               1.68          32.95            131.62  \n",
       "min        0.00               0.01           1.00              0.00  \n",
       "25%        1.00               0.19           1.00              0.00  \n",
       "50%        5.00               0.72           1.00             45.00  \n",
       "75%       24.00               2.02           2.00            227.00  \n",
       "max      629.00              58.50         327.00            365.00  "
      ]
     },
     "execution_count": 57,
     "metadata": {},
     "output_type": "execute_result"
    }
   ],
   "source": [
    "airbnb_data.describe() \n",
    "# get basic statistic information. Reviews_per_month records are fewer than other matrics records"
   ]
  },
  {
   "cell_type": "markdown",
   "metadata": {},
   "source": [
    "## Check missing value"
   ]
  },
  {
   "cell_type": "code",
   "execution_count": 58,
   "metadata": {},
   "outputs": [
    {
     "data": {
      "text/plain": [
       "id                        0\n",
       "name                     16\n",
       "hostId                    0\n",
       "hostName                 21\n",
       "neighbourhoodGroup        0\n",
       "neighbourhood             0\n",
       "latitude                  0\n",
       "longitude                 0\n",
       "room_type                 0\n",
       "price                     0\n",
       "minimum_nights            0\n",
       "reviews                   0\n",
       "lastReview            10052\n",
       "reviews_per_month     10052\n",
       "listingsCount             0\n",
       "availability_365          0\n",
       "dtype: int64"
      ]
     },
     "execution_count": 58,
     "metadata": {},
     "output_type": "execute_result"
    }
   ],
   "source": [
    "airbnb_data.isnull().sum()    # get the null records number of every metrics"
   ]
  },
  {
   "cell_type": "markdown",
   "metadata": {},
   "source": [
    "### Check NaN value impact in reviews"
   ]
  },
  {
   "cell_type": "code",
   "execution_count": 59,
   "metadata": {},
   "outputs": [],
   "source": [
    "# good reviews only contain non-nan values\n",
    "# compare good reviews and all reviews record number"
   ]
  },
  {
   "cell_type": "code",
   "execution_count": 60,
   "metadata": {},
   "outputs": [
    {
     "name": "stdout",
     "output_type": "stream",
     "text": [
      "reviews number is: 48895\n",
      "good reviews number is: 38843\n"
     ]
    }
   ],
   "source": [
    "reviews_per_month= airbnb_data['reviews_per_month']\n",
    "good_reviews = [review for review in reviews_per_month if not math.isnan(review)] \n",
    "reviews_number = len(reviews_per_month)\n",
    "good_reviews_number = len(good_reviews)\n",
    "if good_reviews_number == reviews_number:\n",
    "    print(f\"all reviews record are valid, the views number is {reviews_number}\")\n",
    "else:\n",
    "    print(f\"reviews number is: {reviews_number}\")\n",
    "    print(f\"good reviews number is: {good_reviews_number}\")"
   ]
  },
  {
   "cell_type": "markdown",
   "metadata": {},
   "source": [
    "### Check NaN value impact in price"
   ]
  },
  {
   "cell_type": "code",
   "execution_count": 61,
   "metadata": {},
   "outputs": [],
   "source": [
    "# check whether all the prices records are valid"
   ]
  },
  {
   "cell_type": "code",
   "execution_count": 62,
   "metadata": {},
   "outputs": [
    {
     "name": "stdout",
     "output_type": "stream",
     "text": [
      "all price records are valid, the price number is 48895\n"
     ]
    }
   ],
   "source": [
    "price= airbnb_data['price']\n",
    "good_price = [p for p in price if not math.isnan(p)]\n",
    "price_number = len(price)\n",
    "good_price_number = len(good_price)\n",
    "if good_price_number == price_number:\n",
    "    print(f\"all price records are valid, the price number is {price_number}\")\n",
    "else:\n",
    "    print(f\"reviews number is: {price_number}\")\n",
    "    print(f\"good reviews number is: {good_price_number}\")"
   ]
  },
  {
   "cell_type": "markdown",
   "metadata": {},
   "source": [
    "## Descriptive price statistics"
   ]
  },
  {
   "cell_type": "code",
   "execution_count": 63,
   "metadata": {},
   "outputs": [],
   "source": [
    "# print the price histogram to see the price records distribution"
   ]
  },
  {
   "cell_type": "code",
   "execution_count": 64,
   "metadata": {},
   "outputs": [
    {
     "data": {
      "image/png": "[encoded data removed]",
      "text/plain": [
       "<Figure size 432x288 with 1 Axes>"
      ]
     },
     "metadata": {},
     "output_type": "display_data"
    }
   ],
   "source": [
    "histogram = airbnb_data.hist('price',bins=50) "
   ]
  },
  {
   "cell_type": "code",
   "execution_count": 65,
   "metadata": {},
   "outputs": [
    {
     "name": "stdout",
     "output_type": "stream",
     "text": [
      "median of price = 106.00\n",
      "25 percentile of price = 69.00\n",
      "75 percentile of price = 175.00\n"
     ]
    }
   ],
   "source": [
    "print(f'median of price = {stat.median(good_price):.2f}')\n",
    "print(f'25 percentile of price = {np.percentile(good_price, 25):.2f}')\n",
    "print(f'75 percentile of price = {np.percentile(good_price, 75):.2f}')"
   ]
  },
  {
   "cell_type": "markdown",
   "metadata": {},
   "source": [
    "## Analyze neighbourhood group distribution"
   ]
  },
  {
   "cell_type": "code",
   "execution_count": 66,
   "metadata": {},
   "outputs": [],
   "source": [
    "# count records number in each neighbourhood group\n",
    "neighbourhood_group = airbnb_data['neighbourhoodGroup']\n",
    "group={}\n",
    "for item in neighbourhood_group:\n",
    "    if item in group:\n",
    "        group[item] += 1\n",
    "    else:\n",
    "        group[item] = 0"
   ]
  },
  {
   "cell_type": "code",
   "execution_count": 67,
   "metadata": {},
   "outputs": [
    {
     "name": "stdout",
     "output_type": "stream",
     "text": [
      "Brooklyn : 20103 listings\n",
      "Manhattan : 21660 listings\n",
      "Queens : 5665 listings\n",
      "Staten Island : 372 listings\n",
      "Bronx : 1090 listings\n"
     ]
    }
   ],
   "source": [
    "for name,record in group.items():\n",
    "    print(name,':',record,'listings')"
   ]
  },
  {
   "cell_type": "code",
   "execution_count": 68,
   "metadata": {},
   "outputs": [],
   "source": [
    "group_name = list(group.keys())\n",
    "group_count = list(group.values())"
   ]
  },
  {
   "cell_type": "code",
   "execution_count": 69,
   "metadata": {},
   "outputs": [
    {
     "data": {
      "image/png": "[encoded data removed]",
      "text/plain": [
       "<Figure size 432x288 with 1 Axes>"
      ]
     },
     "metadata": {},
     "output_type": "display_data"
    }
   ],
   "source": [
    "# print bar chart of listing number in each neighbourhood group\n",
    "sns.set_style('whitegrid')  # white backround with gray grid lines\n",
    "axes = sns.barplot(group_name, group_count, palette='bright')\n",
    "axes.set_title('Listing Room Numbers in Different Area')\n",
    "axes.set(xlabel='Area', ylabel='Count')\n",
    "\n",
    "# Scale the y-axis by 10% to make room for text above the bars.\n",
    "axes.set_ylim(top=1.10*max(group_count))\n",
    "\n",
    "# Display the count above each patch (bar).\n",
    "for bar, count in zip(axes.patches, group_count):\n",
    "    text_x = bar.get_x() + bar.get_width()/2  \n",
    "    text_y = bar.get_height() \n",
    "    text   = f'{count}'\n",
    "    axes.text(text_x, text_y, text, \n",
    "              fontsize=11, ha='center', va='bottom')\n",
    "\n",
    "plt.show()  # display the chart "
   ]
  },
  {
   "cell_type": "markdown",
   "metadata": {},
   "source": [
    "## Analyze Price in different location"
   ]
  },
  {
   "cell_type": "markdown",
   "metadata": {},
   "source": [
    "### Median price by location"
   ]
  },
  {
   "cell_type": "code",
   "execution_count": 70,
   "metadata": {},
   "outputs": [
    {
     "name": "stdout",
     "output_type": "stream",
     "text": [
      "median prices are:neighbourhoodGroup\n",
      "Bronx             65\n",
      "Brooklyn          90\n",
      "Manhattan        150\n",
      "Queens            75\n",
      "Staten Island     75\n",
      "Name: price, dtype: int64\n"
     ]
    }
   ],
   "source": [
    "neibourhood_room = airbnb_data.groupby(['neighbourhoodGroup'])\n",
    "median_price_neibourhood = neibourhood_room['price'].median()\n",
    "print(f'median prices are:{median_price_neibourhood}')"
   ]
  },
  {
   "cell_type": "markdown",
   "metadata": {},
   "source": [
    "### Price quartiles and interquartile range (IQR) by location"
   ]
  },
  {
   "cell_type": "code",
   "execution_count": 71,
   "metadata": {},
   "outputs": [],
   "source": [
    "# get the price list of each neighbourhood group \n",
    "def price_in_location(location):\n",
    "    return [price for price, loc in zip(airbnb_data.price, airbnb_data.neighbourhoodGroup) \n",
    "            if (loc == location)]"
   ]
  },
  {
   "cell_type": "code",
   "execution_count": 72,
   "metadata": {},
   "outputs": [],
   "source": [
    "# define the funtion to get the statistics metrics of each price listss\n",
    "def price_analysis_area(location): \n",
    "    price = price_in_location(location)\n",
    "    price = np.array(price)\n",
    "    median_price = np.median(price)\n",
    "    per25_price = np.percentile(price,25)\n",
    "    per75_price = np.percentile(price,75)\n",
    "    iqr = per75_price - per25_price\n",
    "                \n",
    "    return (median_price, per25_price, per75_price,iqr)"
   ]
  },
  {
   "cell_type": "markdown",
   "metadata": {},
   "source": [
    "#### Brooklyn"
   ]
  },
  {
   "cell_type": "code",
   "execution_count": 73,
   "metadata": {},
   "outputs": [
    {
     "name": "stdout",
     "output_type": "stream",
     "text": [
      "median price of Brooklyn   = 90.0\n",
      "25 percentile price of Brooklyn   = 60.0\n",
      "75 percentile price of Brooklyn   = 150.0\n",
      "iqr price of Brooklyn   = 90.0\n"
     ]
    }
   ],
   "source": [
    "med_brooklyn, q1_brooklyn, q3_brooklyn,iqr_brooklyn = price_analysis_area('Brooklyn')\n",
    "\n",
    "print(f'median price of Brooklyn   = {med_brooklyn}')\n",
    "print(f'25 percentile price of Brooklyn   = {q1_brooklyn}')\n",
    "print(f'75 percentile price of Brooklyn   = {q3_brooklyn}')\n",
    "print(f'iqr price of Brooklyn   = {iqr_brooklyn}')"
   ]
  },
  {
   "cell_type": "markdown",
   "metadata": {},
   "source": [
    "#### Manhattan"
   ]
  },
  {
   "cell_type": "code",
   "execution_count": 74,
   "metadata": {},
   "outputs": [
    {
     "name": "stdout",
     "output_type": "stream",
     "text": [
      "median price of Manhattan   = 150.0\n",
      "25 percentile price of Manhattan   = 95.0\n",
      "75 percentile price of Manhattan   = 220.0\n",
      "iqr price of Manhattan  = 125.0\n"
     ]
    }
   ],
   "source": [
    "med_Manhattan, q1_Manhattan, q3_Manhattan,iqr_Manhattan = price_analysis_area('Manhattan')\n",
    "\n",
    "print(f'median price of Manhattan   = {med_Manhattan}')\n",
    "print(f'25 percentile price of Manhattan   = {q1_Manhattan}')\n",
    "print(f'75 percentile price of Manhattan   = {q3_Manhattan}')\n",
    "print(f'iqr price of Manhattan  = {iqr_Manhattan}')"
   ]
  },
  {
   "cell_type": "markdown",
   "metadata": {},
   "source": [
    "#### Queens"
   ]
  },
  {
   "cell_type": "code",
   "execution_count": 75,
   "metadata": {},
   "outputs": [
    {
     "name": "stdout",
     "output_type": "stream",
     "text": [
      "median price of Queens   = 75.0\n",
      "25 percentile price of Queens   = 50.0\n",
      "75 percentile price of Queens   = 110.0\n",
      "iqr price of Queens  = 60.0\n"
     ]
    }
   ],
   "source": [
    "med_Queens, q1_Queens, q3_Queens,iqr_Queens = price_analysis_area('Queens')\n",
    "\n",
    "print(f'median price of Queens   = {med_Queens}')\n",
    "print(f'25 percentile price of Queens   = {q1_Queens}')\n",
    "print(f'75 percentile price of Queens   = {q3_Queens}')\n",
    "print(f'iqr price of Queens  = {iqr_Queens}')"
   ]
  },
  {
   "cell_type": "markdown",
   "metadata": {},
   "source": [
    "#### Staten Island"
   ]
  },
  {
   "cell_type": "code",
   "execution_count": 76,
   "metadata": {},
   "outputs": [
    {
     "name": "stdout",
     "output_type": "stream",
     "text": [
      "median price of Staten Island   = 75.0\n",
      "25 percentile price of Staten Island   = 50.0\n",
      "75 percentile price of Staten Island   = 110.0\n",
      "iqr price of Staten Island  = 60.0\n"
     ]
    }
   ],
   "source": [
    "med_StatenIsland, q1_StatenIsland, q3_StatenIsland,iqr_StatenIsland = \n",
    "price_analysis_area('Staten Island')\n",
    "\n",
    "print(f'median price of Staten Island   = {med_StatenIsland}')\n",
    "print(f'25 percentile price of Staten Island   = {q1_StatenIsland}')\n",
    "print(f'75 percentile price of Staten Island   = {q3_StatenIsland}')\n",
    "print(f'iqr price of Staten Island  = {iqr_StatenIsland}')"
   ]
  },
  {
   "cell_type": "markdown",
   "metadata": {},
   "source": [
    "#### Bronx"
   ]
  },
  {
   "cell_type": "code",
   "execution_count": 77,
   "metadata": {},
   "outputs": [
    {
     "name": "stdout",
     "output_type": "stream",
     "text": [
      "median price of Bronx   = 65.0\n",
      "25 percentile price of Bronx   = 45.0\n",
      "75 percentile price of Bronx   = 99.0\n",
      "iqr price of Bronx  = 54.0\n"
     ]
    }
   ],
   "source": [
    "med_Bronx, q1_Bronx, q3_Bronx,iqr_Bronx = price_analysis_area('Bronx')\n",
    "\n",
    "print(f'median price of Bronx   = {med_Bronx}')\n",
    "print(f'25 percentile price of Bronx   = {q1_Bronx}')\n",
    "print(f'75 percentile price of Bronx   = {q3_Bronx}')\n",
    "print(f'iqr price of Bronx  = {iqr_Bronx}')"
   ]
  },
  {
   "cell_type": "markdown",
   "metadata": {},
   "source": [
    "### Box chart of price ranges within each location "
   ]
  },
  {
   "cell_type": "code",
   "execution_count": 78,
   "metadata": {},
   "outputs": [
    {
     "name": "stdout",
     "output_type": "stream",
     "text": [
      "Box chart of price ranges by location\n"
     ]
    },
    {
     "data": {
      "image/png": "[encoded data removed]",
      "text/plain": [
       "<Figure size 432x288 with 1 Axes>"
      ]
     },
     "metadata": {},
     "output_type": "display_data"
    }
   ],
   "source": [
    "print('Box chart of price ranges by location')\n",
    "boxplot = sns.boxplot(y='price', x='neighbourhoodGroup', data=airbnb_data)"
   ]
  },
  {
   "cell_type": "markdown",
   "metadata": {},
   "source": [
    "## Analyze Price in diffent room type"
   ]
  },
  {
   "cell_type": "markdown",
   "metadata": {},
   "source": [
    "### Median price by room type"
   ]
  },
  {
   "cell_type": "code",
   "execution_count": 79,
   "metadata": {},
   "outputs": [
    {
     "name": "stdout",
     "output_type": "stream",
     "text": [
      "median prices are:room_type\n",
      "Entire home/apt    160\n",
      "Private room        70\n",
      "Shared room         45\n",
      "Name: price, dtype: int64\n"
     ]
    }
   ],
   "source": [
    "room_type = airbnb_data.groupby(['room_type'])\n",
    "median_price_type = room_type['price'].median()\n",
    "print(f'median prices are:{median_price_type}')"
   ]
  },
  {
   "cell_type": "markdown",
   "metadata": {},
   "source": [
    "### Price quartiles and interquartile range (IQR) by room type"
   ]
  },
  {
   "cell_type": "code",
   "execution_count": 80,
   "metadata": {},
   "outputs": [],
   "source": [
    "# define the function to get price list according to room type\n",
    "def price_in_RMtype(type):\n",
    "    return [price for price, tp in zip(airbnb_data.price, airbnb_data.room_type) \n",
    "            if (tp == type)]"
   ]
  },
  {
   "cell_type": "code",
   "execution_count": 81,
   "metadata": {},
   "outputs": [],
   "source": [
    "# define the funtion to get the statistics metrics of each price list\n",
    "def price_analysis_type(type): \n",
    "    price = price_in_RMtype(type)\n",
    "    price = np.array(price)\n",
    "    median_price = np.median(price)\n",
    "    per25_price = np.percentile(price,25)\n",
    "    per75_price = np.percentile(price,75)\n",
    "    iqr = per75_price - per25_price\n",
    "                \n",
    "    return (median_price, per25_price, per75_price,iqr)"
   ]
  },
  {
   "cell_type": "markdown",
   "metadata": {},
   "source": [
    "#### Entire home and apartment"
   ]
  },
  {
   "cell_type": "code",
   "execution_count": 82,
   "metadata": {},
   "outputs": [
    {
     "name": "stdout",
     "output_type": "stream",
     "text": [
      "median price of Entire home and apartment   = 160.0\n",
      "25 percentile price of Entire home and apartment   = 120.0\n",
      "75 percentile price of Entire home and apartment   = 229.0\n",
      "interquartile price range of Entire home and apartment  = 109.0\n"
     ]
    }
   ],
   "source": [
    "med_Entire, q1_Entire, q3_Entire,iqr_Entire = price_analysis_type('Entire home/apt')\n",
    "\n",
    "print(f'median price of Entire home and apartment   = {med_Entire}')\n",
    "print(f'25 percentile price of Entire home and apartment   = {q1_Entire}')\n",
    "print(f'75 percentile price of Entire home and apartment   = {q3_Entire}')\n",
    "print(f'interquartile price range of Entire home and apartment  = {iqr_Entire}')"
   ]
  },
  {
   "cell_type": "markdown",
   "metadata": {},
   "source": [
    "#### Private room"
   ]
  },
  {
   "cell_type": "code",
   "execution_count": 83,
   "metadata": {},
   "outputs": [
    {
     "name": "stdout",
     "output_type": "stream",
     "text": [
      "median price of Private room  = 70.0\n",
      "25 percentile price of Private room   = 50.0\n",
      "75 percentile price of Private room   = 95.0\n",
      "interquartile price range of Private room  = 45.0\n"
     ]
    }
   ],
   "source": [
    "med_private, q1_private, q3_private,iqr_private = price_analysis_type('Private room')\n",
    "\n",
    "print(f'median price of Private room  = {med_private}')\n",
    "print(f'25 percentile price of Private room   = {q1_private}')\n",
    "print(f'75 percentile price of Private room   = {q3_private}')\n",
    "print(f'interquartile price range of Private room  = {iqr_private}')"
   ]
  },
  {
   "cell_type": "markdown",
   "metadata": {},
   "source": [
    "#### Shared room"
   ]
  },
  {
   "cell_type": "code",
   "execution_count": 84,
   "metadata": {},
   "outputs": [
    {
     "name": "stdout",
     "output_type": "stream",
     "text": [
      "median price of Shared room  = 45.0\n",
      "25 percentile price of Shared room   = 33.0\n",
      "75 percentile price of Shared room   = 75.0\n",
      "interquartile price range of Shared room  = 42.0\n"
     ]
    }
   ],
   "source": [
    "med_shared, q1_shared, q3_shared,iqr_shared = price_analysis_type('Shared room')\n",
    "\n",
    "print(f'median price of Shared room  = {med_shared}')\n",
    "print(f'25 percentile price of Shared room   = {q1_shared}')\n",
    "print(f'75 percentile price of Shared room   = {q3_shared}')\n",
    "print(f'interquartile price range of Shared room  = {iqr_shared}')"
   ]
  },
  {
   "cell_type": "markdown",
   "metadata": {},
   "source": [
    "### Box chart of price ranges by different room type"
   ]
  },
  {
   "cell_type": "code",
   "execution_count": 85,
   "metadata": {},
   "outputs": [
    {
     "name": "stdout",
     "output_type": "stream",
     "text": [
      "Box chart of price ranges by location\n"
     ]
    },
    {
     "data": {
      "image/png": "[encoded data removed]",
      "text/plain": [
       "<Figure size 432x288 with 1 Axes>"
      ]
     },
     "metadata": {},
     "output_type": "display_data"
    }
   ],
   "source": [
    "print('Box chart of price ranges by location')\n",
    "boxplot = sns.boxplot(y='price', x='room_type', data=airbnb_data)"
   ]
  },
  {
   "cell_type": "markdown",
   "metadata": {},
   "source": [
    "## Analyze Price in different location and room type"
   ]
  },
  {
   "cell_type": "markdown",
   "metadata": {},
   "source": [
    "### Median price of diffent location and room type"
   ]
  },
  {
   "cell_type": "code",
   "execution_count": 86,
   "metadata": {},
   "outputs": [
    {
     "name": "stdout",
     "output_type": "stream",
     "text": [
      "median prices are:neighbourhoodGroup  room_type      \n",
      "Bronx               Entire home/apt    100.0\n",
      "                    Private room        53.5\n",
      "                    Shared room         40.0\n",
      "Brooklyn            Entire home/apt    145.0\n",
      "                    Private room        65.0\n",
      "                    Shared room         36.0\n",
      "Manhattan           Entire home/apt    191.0\n",
      "                    Private room        90.0\n",
      "                    Shared room         69.0\n",
      "Queens              Entire home/apt    120.0\n",
      "                    Private room        60.0\n",
      "                    Shared room         37.0\n",
      "Staten Island       Entire home/apt    100.0\n",
      "                    Private room        50.0\n",
      "                    Shared room         30.0\n",
      "Name: price, dtype: float64\n"
     ]
    }
   ],
   "source": [
    "# group the dataframe according to neighbourhood group and room type\n",
    "# get the insight according neighbourhood group and room type together\n",
    "neibourhood_room_type = airbnb_data.groupby(['neighbourhoodGroup','room_type'])\n",
    "median_price_neibourhood = neibourhood_room_type['price'].median()\n",
    "print(f'median prices are:{median_price_neibourhood}')"
   ]
  },
  {
   "cell_type": "markdown",
   "metadata": {},
   "source": [
    "### Graph of diffent location and room type"
   ]
  },
  {
   "cell_type": "code",
   "execution_count": 87,
   "metadata": {},
   "outputs": [
    {
     "data": {
      "text/plain": [
       "<matplotlib.legend.Legend at 0x1a17d4dac8>"
      ]
     },
     "execution_count": 87,
     "metadata": {},
     "output_type": "execute_result"
    },
    {
     "data": {
      "image/png": "[encoded data removed]",
      "text/plain": [
       "<Figure size 432x288 with 1 Axes>"
      ]
     },
     "metadata": {},
     "output_type": "display_data"
    }
   ],
   "source": [
    "neighbourhood_group_name = list(set(airbnb_data['neighbourhoodGroup']))\n",
    "room_type_neibourhood = airbnb_data.groupby(['room_type','neighbourhoodGroup'])\n",
    "median_price_room = room_type_neibourhood['price'].median()\n",
    "\n",
    "median_entire_room = median_price_room['Entire home/apt']\n",
    "median_private_room = median_price_room['Private room']\n",
    "median_shared_room = median_price_room['Shared room']\n",
    "x = np.arange(len(median_entire_room))\n",
    "bar_width = 0.15\n",
    "plt.bar(x, median_entire_room, width=bar_width,color='red',zorder=2)\n",
    "plt.bar(x+bar_width, median_private_room, width=bar_width,color='blue',zorder=2)\n",
    "plt.bar(x+bar_width*2, median_shared_room, width=bar_width,color='green',zorder=2)\n",
    "\n",
    "plt.xticks(x+bar_width*2, neighbourhood_group_name)\n",
    "plt.xlabel('area-room type')\n",
    "plt.ylabel('median price')\n",
    "plt.title('median price of location and room type')\n",
    "\n",
    "import matplotlib.patches as pa\n",
    "red_patch = pa.Patch(color='red',label='entire room')\n",
    "blue_patch = pa.Patch(color='blue',label='private room')\n",
    "green_patch = pa.Patch(color='green',label='shared room')\n",
    "plt.legend(handles=[red_patch,blue_patch,green_patch])"
   ]
  },
  {
   "cell_type": "code",
   "execution_count": 88,
   "metadata": {},
   "outputs": [
    {
     "name": "stdout",
     "output_type": "stream",
     "text": [
      "Box chart of price ranges by neighbourhood group\n"
     ]
    },
    {
     "data": {
      "image/png": "[encoded data removed]",
      "text/plain": [
       "<Figure size 432x288 with 1 Axes>"
      ]
     },
     "metadata": {},
     "output_type": "display_data"
    }
   ],
   "source": [
    "print('Box chart of price ranges by neighbourhood group')\n",
    "hue_order=['red','blue','green','pink','black']\n",
    "boxplot = sns.boxplot(y='price', x='neighbourhoodGroup', hue='room_type', \n",
    "                      notch=False,data=airbnb_data)"
   ]
  },
  {
   "cell_type": "markdown",
   "metadata": {},
   "source": [
    "## Relationship analysis between minimum nights, reviews per month and price"
   ]
  },
  {
   "cell_type": "code",
   "execution_count": 89,
   "metadata": {},
   "outputs": [],
   "source": [
    "# plot the relationship between price and reviews per month"
   ]
  },
  {
   "cell_type": "code",
   "execution_count": 90,
   "metadata": {},
   "outputs": [
    {
     "data": {
      "text/plain": [
       "<matplotlib.axes._subplots.AxesSubplot at 0x1a18b4fe10>"
      ]
     },
     "execution_count": 90,
     "metadata": {},
     "output_type": "execute_result"
    },
    {
     "data": {
      "image/png": "[encoded data removed]",
      "text/plain": [
       "<Figure size 432x288 with 1 Axes>"
      ]
     },
     "metadata": {},
     "output_type": "display_data"
    }
   ],
   "source": [
    "df = airbnb_data.dropna()\n",
    "df.plot(kind = 'scatter', y='reviews_per_month',x='price')\n",
    "#some abnormal price impact the analysis"
   ]
  },
  {
   "cell_type": "code",
   "execution_count": 91,
   "metadata": {},
   "outputs": [
    {
     "data": {
      "text/plain": [
       "<matplotlib.axes._subplots.AxesSubplot at 0x1a1496e780>"
      ]
     },
     "execution_count": 91,
     "metadata": {},
     "output_type": "execute_result"
    },
    {
     "data": {
      "image/png": "[encoded data removed]",
      "text/plain": [
       "<Figure size 432x288 with 1 Axes>"
      ]
     },
     "metadata": {},
     "output_type": "display_data"
    }
   ],
   "source": [
    "# plot the relationship between price and minimum nights\n",
    "df.plot(kind='scatter',x ='minimum_nights',y='price')\n",
    "#some abnormal price impact the analysis"
   ]
  },
  {
   "cell_type": "code",
   "execution_count": 92,
   "metadata": {},
   "outputs": [],
   "source": [
    "data_price_sort = df.sort_values(by='price')"
   ]
  },
  {
   "cell_type": "code",
   "execution_count": 93,
   "metadata": {},
   "outputs": [
    {
     "data": {
      "text/plain": [
       "<matplotlib.axes._subplots.AxesSubplot at 0x101d47160>"
      ]
     },
     "execution_count": 93,
     "metadata": {},
     "output_type": "execute_result"
    },
    {
     "data": {
      "image/png": "[encoded data removed]",
      "text/plain": [
       "<Figure size 432x288 with 1 Axes>"
      ]
     },
     "metadata": {},
     "output_type": "display_data"
    }
   ],
   "source": [
    "# remove very low and very high price items. results: lower prices ones got more reviews\n",
    "data_price_sort[200:-200].plot.scatter(y= 'reviews_per_month', x='price')"
   ]
  },
  {
   "cell_type": "code",
   "execution_count": 94,
   "metadata": {},
   "outputs": [
    {
     "data": {
      "text/plain": [
       "<matplotlib.axes._subplots.AxesSubplot at 0x10101f940>"
      ]
     },
     "execution_count": 94,
     "metadata": {},
     "output_type": "execute_result"
    },
    {
     "data": {
      "image/png": "[encoded data removed]",
      "text/plain": [
       "<Figure size 432x288 with 1 Axes>"
      ]
     },
     "metadata": {},
     "output_type": "display_data"
    }
   ],
   "source": [
    "# remove very low and very high price items. \n",
    "#results: lower prices ones got more reviews\n",
    "data_price_sort[200:-200].plot.scatter(x= 'reviews_per_month', y='price')"
   ]
  },
  {
   "cell_type": "code",
   "execution_count": 95,
   "metadata": {},
   "outputs": [
    {
     "data": {
      "text/plain": [
       "<matplotlib.axes._subplots.AxesSubplot at 0x1a178784a8>"
      ]
     },
     "execution_count": 95,
     "metadata": {},
     "output_type": "execute_result"
    },
    {
     "data": {
      "image/png": "[encoded data removed]",
      "text/plain": [
       "<Figure size 432x288 with 1 Axes>"
      ]
     },
     "metadata": {},
     "output_type": "display_data"
    }
   ],
   "source": [
    "# remove very low and very high price items. \n",
    "#results: the longer nights the lower prices\n",
    "data_price_sort[200:-200].plot.scatter(x= 'minimum_nights', y='price')"
   ]
  },
  {
   "cell_type": "code",
   "execution_count": 96,
   "metadata": {},
   "outputs": [
    {
     "data": {
      "text/plain": [
       "<matplotlib.axes._subplots.AxesSubplot at 0x1a18463860>"
      ]
     },
     "execution_count": 96,
     "metadata": {},
     "output_type": "execute_result"
    },
    {
     "data": {
      "image/png": "[encoded data removed]",
      "text/plain": [
       "<Figure size 432x288 with 1 Axes>"
      ]
     },
     "metadata": {},
     "output_type": "display_data"
    }
   ],
   "source": [
    "# remove very long nigths reservation records. \n",
    "#results: the longer nights the lower prices\n",
    "data_night_sort = df.sort_values(by='minimum_nights')\n",
    "data_night_sort[:-200].plot.scatter(x= 'minimum_nights', y='price')"
   ]
  },
  {
   "cell_type": "markdown",
   "metadata": {},
   "source": [
    "## Findings:\n",
    "#### 1, prices are highly relied on area, Mantthattan is the most expensive area\n",
    "#### 2, room type impacts the price. prices of entire home are usually twice of private room, while prices of private room are usually #### 40% higher than shared room\n",
    "#### 3, the prices show a trend of decreasing with minimal night increasing\n",
    "#### 4, the higher the price, the fewer of reviews"
   ]
  },
  {
   "cell_type": "code",
   "execution_count": null,
   "metadata": {},
   "outputs": [],
   "source": []
  }
 ],
 "metadata": {
  "kernelspec": {
   "display_name": "Python 3",
   "language": "python",
   "name": "python3"
  },
  "language_info": {
   "codemirror_mode": {
    "name": "ipython",
    "version": 3
   },
   "file_extension": ".py",
   "mimetype": "text/x-python",
   "name": "python",
   "nbconvert_exporter": "python",
   "pygments_lexer": "ipython3",
   "version": "3.7.1"
  }
 },
 "nbformat": 4,
 "nbformat_minor": 4
}
