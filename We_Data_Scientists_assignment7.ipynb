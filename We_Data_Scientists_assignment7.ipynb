{
 "cells": [
  {
   "cell_type": "markdown",
   "metadata": {},
   "source": [
    "### <center>San Jose State University<br>Department of Applied Data Science</center>\n",
    "#  <center>DATA 220<br>Mathematical Methods for Data Analysis</center>\n",
    "### <center>Fall 2019<br>Instructor: Ron Mak</center>\n",
    "#  <center>Assignment 7<br>Probability Problem Set</center>\n",
    "#### <center>100 points total (10 points each)<br><br>Work together with your lab partner.<br>Write your solutions in the indicated cells. You can use more cells if you need to.<br>You can compute by hand, but try use Python code and Python functions.<br>You can add your own functions or other support code.</center>\n",
    "#### <center>Due October 28, 2019</center>"
   ]
  },
  {
   "cell_type": "markdown",
   "metadata": {},
   "source": [
    "#### <strong>PROBLEM 1.</strong> You stand on a street corner and record the gender of the first ten people who pass by. If the city is half male and half female, what is the probability that you will record all females?"
   ]
  },
  {
   "cell_type": "code",
   "execution_count": 10,
   "metadata": {},
   "outputs": [
    {
     "name": "stdout",
     "output_type": "stream",
     "text": [
      "The ratio of each time the passager is female is 1/2, the ten passengers are independent, so the ratio is:\n",
      "p= pow(0.5, 10) \n",
      "The percentage of 10 records are all females is:0.098% \n"
     ]
    }
   ],
   "source": [
    "##### Solution to Problem 1 #####\n",
    "print('The ratio of each time the passager is female is 1/2, the ten passengers are independent, so the ratio is:') \n",
    "print('p= pow(0.5, 10) ')\n",
    "print(f'The percentage of 10 records are all females is:{p*100:.3f}% ')"
   ]
  },
  {
   "cell_type": "markdown",
   "metadata": {},
   "source": [
    "#### <strong>PROBLEM 2.</strong> In the previous problem, what is the probability that you will record between four and six females, inclusive?"
   ]
  },
  {
   "cell_type": "markdown",
   "metadata": {},
   "source": [
    "##### Solution to Problem 2 #####\n",
    "This is a binomial distribution problem\n",
    "This event follows a binominal istribution, and the probability is p(4)+p(5)+p(6)   \n",
    "$p(4)= {10 \\choose 4} *{1/2}^{4}*{1/2}^6$      \n",
    "$p(5)= {10 \\choose 5} *{1/2}^{5}*{1/2}^5$      \n",
    "$p(6)= {10 \\choose 6} *{1/2}^{6}*{1/2}^4$"
   ]
  },
  {
   "cell_type": "code",
   "execution_count": 28,
   "metadata": {},
   "outputs": [
    {
     "name": "stdout",
     "output_type": "stream",
     "text": [
      "The probability that you will record between four and six females = 0.6563\n"
     ]
    }
   ],
   "source": [
    "import scipy.stats as stats\n",
    "\n",
    "counts_number = 10\n",
    "p_female = 0.5\n",
    "female_count = [4,5,6]\n",
    "p = 0\n",
    "for i in range(len(female_count)):\n",
    "    p+= stats.binom.pmf(female_count[i], counts_number, p_female)\n",
    "\n",
    "print(f'The probability that you will record between four and six females = {p:.4f}')"
   ]
  },
  {
   "cell_type": "markdown",
   "metadata": {},
   "source": [
    "#### <strong>PROBLEM 3.</strong> What is the probability that a randomly selected leap year contains 53 Sundays?"
   ]
  },
  {
   "cell_type": "code",
   "execution_count": 11,
   "metadata": {},
   "outputs": [
    {
     "name": "stdout",
     "output_type": "stream",
     "text": [
      "The leap year is 366 days, and contains 52 weeks and another 2 days\n",
      "The ratio of Sunday in a week is: p=0.143\n",
      "The probability that a randomly selected leap year contains 53 Sundays is: 28.57%\n"
     ]
    }
   ],
   "source": [
    "##### Solution to Problem 3 #####\n",
    "weeks = int(366/7)\n",
    "days = 366%7\n",
    "p_sunday = 1/7\n",
    "p_53sunday= days*p_sunday\n",
    "print(f'The leap year is 366 days, and contains {weeks} weeks and another {days} days')\n",
    "print(f'The ratio of Sunday in a week is: p={p_sunday:.3f}')\n",
    "print(f'The probability that a randomly selected leap year contains 53 Sundays is: {p_53sunday*100:.2f}%')"
   ]
  },
  {
   "cell_type": "markdown",
   "metadata": {},
   "source": [
    "#### <strong>PROBLEM 4.</strong> Customers enter a store at an average rate of two per minute. What is the probability that at least one customer enters the store during a given minute?"
   ]
  },
  {
   "cell_type": "raw",
   "metadata": {},
   "source": [
    "##### Solution to Problem 4 #####\n",
    "This is a Poisson distribution problem.\n",
    "\n",
    "The average number of customer per minute is 2.\n",
    "The probability that at least one customer enters the store during a given minute: 1-P(no customer entered)\n",
    "Therefore, we must use the Poisson probability mass function (pmf) to calculate p_0."
   ]
  },
  {
   "cell_type": "code",
   "execution_count": 10,
   "metadata": {},
   "outputs": [
    {
     "name": "stdout",
     "output_type": "stream",
     "text": [
      "The average arrows shot per minute = 2\n",
      "The probability of at least one customer entered: 86.47%\n"
     ]
    }
   ],
   "source": [
    "import scipy.stats as stats\n",
    "\n",
    "average_cus_entered = 2\n",
    "\n",
    "p_0 = stats.poisson.pmf(0, average_cus_entered)\n",
    "\n",
    "print(f'The average arrows shot per minute = {average_cus_entered}')\n",
    "print(f'The probability of at least one customer entered: {(1 - p_0)*100:.2f}%')"
   ]
  },
  {
   "cell_type": "markdown",
   "metadata": {},
   "source": [
    "#### <strong>PROBLEM 5.</strong> Suppose the probability that you will have a child with brown hair is 1/4. If you have four children, what is the probability that exactly half of them will have brown hair?"
   ]
  },
  {
   "cell_type": "markdown",
   "metadata": {},
   "source": [
    "##### Solution to Problem 5 #####\n",
    "This is a binominial distribution problem\n",
    "Success is children have brown hair.\n",
    "The probability of success of each trial (brown hair) is 1/4\n",
    "We want to know, after 4 trials, what is the probability of 2 successes.    \n",
    "$p(2)= {4 \\choose 2} *{1/4}^{2}*{3/4}^2$      \n",
    "\n",
    "Therefore, we must use the binomial probability mass function (pmf)."
   ]
  },
  {
   "cell_type": "code",
   "execution_count": 29,
   "metadata": {},
   "outputs": [
    {
     "name": "stdout",
     "output_type": "stream",
     "text": [
      "the probability that exactly half of them will have brown hair = 0.2109\n"
     ]
    }
   ],
   "source": [
    "import scipy.stats as stats\n",
    "\n",
    "counts_number = 4\n",
    "p_brown_hair = 0.25\n",
    "children_count = 2\n",
    "p= stats.binom.pmf(children_count, counts_number, p_brown_hair)\n",
    "\n",
    "print(f'the probability that exactly half of them will have brown hair = {p:.4f}')"
   ]
  },
  {
   "cell_type": "markdown",
   "metadata": {},
   "source": [
    "#### <strong>PROBLEM 6.</strong> A group of ten friends randomly sit around a circular table. Exactly two of them love each other dearly. What is the probability that they end up sitting together?"
   ]
  },
  {
   "cell_type": "markdown",
   "metadata": {},
   "source": [
    "##### Solution to Problem 6 #####\n",
    "All the possible sitting numbers for 2 friends : $n_{total}=\\frac{10!}{(10-2)!}$     \n",
    "The possible ways they sitting together : $n_{together}={10 \\choose 1}*2$         \n",
    "The probability = $\\frac{n_{together}}{n_{total}}$"
   ]
  },
  {
   "cell_type": "code",
   "execution_count": 31,
   "metadata": {},
   "outputs": [
    {
     "name": "stdout",
     "output_type": "stream",
     "text": [
      "The probability they sitting togehter is:0.2222 \n"
     ]
    }
   ],
   "source": [
    "p = 10*2/(10*9)\n",
    "print(f'The probability they sitting togehter is:{p:.4f} ')"
   ]
  },
  {
   "cell_type": "markdown",
   "metadata": {},
   "source": [
    "#### <strong>PROBLEM 7.</strong> How many sums of money can you obtain by choosing two coins from a box that contains a penny, a nickel, a dime, a quarter, and a half dollar?"
   ]
  },
  {
   "cell_type": "markdown",
   "metadata": {},
   "source": [
    "##### Solution to Problem 7 #####\n",
    "We set the data set is 0.01,0.05, 0.1, 0.25, 0.5\n",
    "The sum of any two of them is k. Let's calculate k        \n",
    "The sum results number should be ${5 \\choose 2}=10$ "
   ]
  },
  {
   "cell_type": "code",
   "execution_count": 2,
   "metadata": {},
   "outputs": [
    {
     "name": "stdout",
     "output_type": "stream",
     "text": [
      "The sums number of money is: 10\n"
     ]
    }
   ],
   "source": [
    "# Considering the different combination sum may be same, let's do the code to calculate\n",
    "s = [0.01,0.05, 0.1, 0.25, 0.5]\n",
    "sum_set=[]\n",
    "for i in range(len(s)):\n",
    "    for j in range(len(s)):\n",
    "        if i!=j:\n",
    "            sum = round(s[i]+s[j],4)\n",
    "            if sum not in sum_set:\n",
    "                sum_set.append(sum)\n",
    "#print(f'The sums are: {sum_set}')\n",
    "print(f'The sums number of money is: {len(sum_set)}')\n"
   ]
  },
  {
   "cell_type": "markdown",
   "metadata": {},
   "source": [
    "#### <strong>PROBLEM 8.</strong> An opaque bag contains one ball that is equally likely to be white or black. You put in a white ball and shake the bag. Then you reach in and randomly remove a ball. If the removed ball is white, what is the probability that the original ball in the bag was white?"
   ]
  },
  {
   "cell_type": "raw",
   "metadata": {},
   "source": [
    "##### Solution to Problem 8 #####\n",
    "define the events:         \n",
    "    OW = {original ball is white }, OB={original ball is black}\n",
    "    PW = {put ball is white }, PB={original ball is black}\n",
    "    RW ={ removed ball is white}, RB ={removed ball is black}\n",
    "    \n",
    "we know:\n",
    "    P(OW) = P(OB )= 1/2 =0.5\n",
    "    \n",
    "The probability of removed ball is white and the original ball in the bag was white is P(OW|PW&RW)\n",
    "1) if the original one is white and the probability is 0.5, the probability of putting  white and removing  white is 1*1\n",
    "2) if the original one is black and the probabiity is 0.5, the probability of putting white and removing white is 1*(1/2)\n",
    "3) P(OW|PW&RW)= (0.5*1*1)/(0.5*1*1+0.5*1*(1/2))= 2/3"
   ]
  },
  {
   "cell_type": "markdown",
   "metadata": {},
   "source": [
    "if using Bayes' Theorem:    \n",
    " P(OW|PW&RW)   \n",
    " = p(PW&RW|OW)p(OW)/p(PW&RW)  \n",
    " = P(PW&RW|OW)*P(OW) / (P(PW*RW|OW)*P(OW)+P(PW*RW|OB)*P(OB))\n",
    " since PW is independent with OB or OW,      \n",
    " = $\\frac{1*1*0.5}{1*1*0.5 + 1*0.5*0.5}$\n",
    " = 2/3\n"
   ]
  },
  {
   "cell_type": "code",
   "execution_count": 5,
   "metadata": {},
   "outputs": [
    {
     "name": "stdout",
     "output_type": "stream",
     "text": [
      "the probability that original ball was white is: 66.67%\n"
     ]
    }
   ],
   "source": [
    "print(f'the probability that original ball was white is: {2/3*100:.2f}%')"
   ]
  },
  {
   "cell_type": "markdown",
   "metadata": {},
   "source": [
    "#### <strong>PROBLEM 9.</strong> You have three empty boxes and seven balls. How many ways can you distribute the balls among the three boxes?"
   ]
  },
  {
   "cell_type": "markdown",
   "metadata": {},
   "source": [
    "##### Solution to Problem 9 #####\n",
    "Line up 7 balls, make a space in each two balls and also both ends of the balls. And we will get 8 spaces. \n",
    "And putting two dividers in those 8 spaces. In this way, we will divides the 7 balls into 3 parts.\n",
    "With this consideration, we will change the problem to 8 choose 2 combination problems.\n",
    "So the number of ways are:\n",
    "$ {8 \\choose 2} = \\frac {8!}{2!*6!} = 28$"
   ]
  },
  {
   "cell_type": "markdown",
   "metadata": {},
   "source": [
    "#### <strong>PROBLEM 10.</strong> Alice, Bill, and Carol toss a fair coin but you don't see them do it. Then Alice reports to you that the coin came up heads, but Bill and Carol claim that it was tails. Alice tells the truth 4/5 of the time, Bill 3/5 of the time, and Carol 5/7 of the time. What is the probability that it was indeed heads?"
   ]
  },
  {
   "cell_type": "raw",
   "metadata": {},
   "source": [
    "##### Solution to Problem 10 #####\n",
    "define the events:         \n",
    "    A1={Alice reports head}, A2={Alice reports tail}       \n",
    "    B1={Bill reports head},  B2={Bill reports tail}      \n",
    "    C1={Carol reports head}, C2={Carol reports tail}      \n",
    "    D1={The coin camp up as head}, D2={The coin camp up as tail}     \n",
    "we know:\n",
    "    P(A1)+ P(A2)= 1     \n",
    "    P(B1)+ P(B2)= 1     \n",
    "    P(C1)+ P(C2)= 1    \n",
    "    P(D1)= P(D2)= 1/2     \n",
    "we calculate:\n",
    "    P(D1|A1&B2&C2)is the possability that: \n",
    "   "
   ]
  },
  {
   "cell_type": "markdown",
   "metadata": {},
   "source": [
    " 1) it is real head, the probability is 1/2; And Alice is telling the truth&Bill and Carol are not telling the truth, the probability is $\\frac{4}{5}*(1-\\frac{3}{5})*(1-\\frac{5}{7})=\\frac{16}{175} $      \n",
    "    2) it is tail, the probability is 1/2; Then Alice is not telling the truth & Bill and Carol are telling the truth, the probability is $(1-\\frac{4}{5})*\\frac{3}{5}*\\frac{5}{7}= \\frac{15}{175}$    \n",
    "    Then the probability of case 1) is $\\frac{\\frac{1}{2}*\\frac{16}{175}}{\\frac{1}{2}*\\frac{16}{175}+\\frac{1}{2}*\\frac{15}{175}}$= 51.61%   \n",
    "\n",
    "using Bayes' theorem:\n",
    "\n",
    "P(D1|A1&B1&C2)=$\\frac{P(A1,B2,C2|D1)*P(D1)}{P(A1,B2,C2)}$\n",
    "$                =\\frac{P(A1|D1)*P(B2|D1)*P(C2|D1)*P(D1)}{{P(A1,B2,C2|D1)*P(D1)}+{P(A1,B2,C2|D2)*P(D2)}}$\n",
    "                =(4/5 * 2/5 * 2/7) * 1/2/((4/5 * 2/5 * 2/7) * 1/2 + (1/5 * 3/5 * 5/7) * 1/2)\n",
    "                =51.61%\n"
   ]
  },
  {
   "cell_type": "code",
   "execution_count": 7,
   "metadata": {},
   "outputs": [
    {
     "name": "stdout",
     "output_type": "stream",
     "text": [
      "the probability it was indeed heads is 51.61%\n"
     ]
    }
   ],
   "source": [
    "print('the probability it was indeed heads is 51.61%')"
   ]
  },
  {
   "cell_type": "code",
   "execution_count": null,
   "metadata": {},
   "outputs": [],
   "source": []
  }
 ],
 "metadata": {
  "kernelspec": {
   "display_name": "Python 3",
   "language": "python",
   "name": "python3"
  },
  "language_info": {
   "codemirror_mode": {
    "name": "ipython",
    "version": 3
   },
   "file_extension": ".py",
   "mimetype": "text/x-python",
   "name": "python",
   "nbconvert_exporter": "python",
   "pygments_lexer": "ipython3",
   "version": "3.7.1"
  }
 },
 "nbformat": 4,
 "nbformat_minor": 2
}
